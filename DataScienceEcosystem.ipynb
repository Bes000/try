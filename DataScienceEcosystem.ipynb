{
 "cells": [
  {
   "cell_type": "code",
   "execution_count": 8,
   "id": "d34a5075-6b2b-452c-9783-ad9f3789edb9",
   "metadata": {
    "tags": []
   },
   "outputs": [],
   "source": [
    "import pandas as pd"
   ]
  },
  {
   "cell_type": "markdown",
   "id": "f7638a17-2b72-464b-ab99-ebb338053d08",
   "metadata": {},
   "source": [
    "# Data Science Tools and Ecosystem"
   ]
  },
  {
   "cell_type": "markdown",
   "id": "8e93a07f-99f2-4ffd-a146-a70e9d2c8c01",
   "metadata": {},
   "source": [
    "In this notebook, Data Science Tools and Ecosystem are summarized"
   ]
  },
  {
   "cell_type": "markdown",
   "id": "86f643ab-aa31-4217-9e46-6ad9ecbba41d",
   "metadata": {},
   "source": [
    "## objectives:"
   ]
  },
  {
   "cell_type": "code",
   "execution_count": null,
   "id": "672df982-8d3d-4424-8ad4-2e5e34e2170c",
   "metadata": {},
   "outputs": [],
   "source": [
    "objectives_list = [\n",
    "    \"popular languages in python\",\n",
    "    \"popular libraries in python\",\n",
    "    \"open source toolstabels for data science\"\n",
    "]"
   ]
  },
  {
   "cell_type": "markdown",
   "id": "ce807095-9c68-44d0-a742-58947a2d3930",
   "metadata": {},
   "source": [
    "## Some of the popular languages that Data Scientists use are:"
   ]
  },
  {
   "cell_type": "code",
   "execution_count": 4,
   "id": "a36be96d-ae87-4909-a18d-fc592e0baa03",
   "metadata": {
    "tags": []
   },
   "outputs": [],
   "source": [
    "list = [\"python\", \"R\", \"SQL\"]"
   ]
  },
  {
   "cell_type": "markdown",
   "id": "23692251-f79a-401a-b489-4c2e730f54d1",
   "metadata": {},
   "source": [
    "## Some of the commonly used libraries used by Data Scientists include:"
   ]
  },
  {
   "cell_type": "code",
   "execution_count": 5,
   "id": "45875a45-21a7-4685-96cc-e81a22a9234e",
   "metadata": {
    "tags": []
   },
   "outputs": [],
   "source": [
    "ordered_list = [\"pandas\", \"matplotlib\", \"scikit_learn\", \"numpy\", \"sci_py\"]"
   ]
  },
  {
   "cell_type": "markdown",
   "id": "d7fa914f-c10e-4309-a2d3-b72cbb3dfe5d",
   "metadata": {},
   "source": [
    "## table of Data Science toolstable of Data Science tools"
   ]
  },
  {
   "cell_type": "code",
   "execution_count": 19,
   "id": "cd0c378e-1427-49ee-9c02-1ef69dbd3f79",
   "metadata": {
    "tags": []
   },
   "outputs": [
    {
     "data": {
      "text/html": [
       "<div>\n",
       "<style scoped>\n",
       "    .dataframe tbody tr th:only-of-type {\n",
       "        vertical-align: middle;\n",
       "    }\n",
       "\n",
       "    .dataframe tbody tr th {\n",
       "        vertical-align: top;\n",
       "    }\n",
       "\n",
       "    .dataframe thead th {\n",
       "        text-align: right;\n",
       "    }\n",
       "</style>\n",
       "<table border=\"1\" class=\"dataframe\">\n",
       "  <thead>\n",
       "    <tr style=\"text-align: right;\">\n",
       "      <th></th>\n",
       "      <th>Data Science Tools</th>\n",
       "    </tr>\n",
       "  </thead>\n",
       "  <tbody>\n",
       "    <tr>\n",
       "      <th>0</th>\n",
       "      <td>jupyter_notebook</td>\n",
       "    </tr>\n",
       "    <tr>\n",
       "      <th>1</th>\n",
       "      <td>visual_studio_code</td>\n",
       "    </tr>\n",
       "    <tr>\n",
       "      <th>2</th>\n",
       "      <td>R_studio</td>\n",
       "    </tr>\n",
       "  </tbody>\n",
       "</table>\n",
       "</div>"
      ],
      "text/plain": [
       "   Data Science Tools\n",
       "0    jupyter_notebook\n",
       "1  visual_studio_code\n",
       "2            R_studio"
      ]
     },
     "execution_count": 19,
     "metadata": {},
     "output_type": "execute_result"
    }
   ],
   "source": [
    "open_source_tools = [\"jupyter_notebook\", \"visual_studio_code\", \"R_studio\"]\n",
    "\n",
    "table = pd.DataFrame([\"jupyter_notebook\", \"visual_studio_code\", \"R_studio\"],columns = [\"Data Science Tools\"])\n",
    "table"
   ]
  },
  {
   "cell_type": "markdown",
   "id": "daa57725-d6e0-412e-8587-9e9b5bb667d1",
   "metadata": {},
   "source": [
    "### Below are a few examples of evaluating arithmetic expressions in Python"
   ]
  },
  {
   "cell_type": "code",
   "execution_count": 22,
   "id": "e9c8bb2e-7548-4363-ac1c-a10b553ce0c5",
   "metadata": {
    "tags": []
   },
   "outputs": [
    {
     "data": {
      "text/plain": [
       "17"
      ]
     },
     "execution_count": 22,
     "metadata": {},
     "output_type": "execute_result"
    }
   ],
   "source": [
    " #This a simple arithmetic expression to mutiply then add integers\n",
    "(3*4) + 5"
   ]
  },
  {
   "cell_type": "code",
   "execution_count": 27,
   "id": "0acfe5e6-7d29-4d6a-9724-ad15f8fc8cd2",
   "metadata": {
    "tags": []
   },
   "outputs": [
    {
     "name": "stdout",
     "output_type": "stream",
     "text": [
      "180 Mins = 3 Hours\n"
     ]
    }
   ],
   "source": [
    "##This will convert 200 minutes to hours by diving by 60\n",
    "x = 180\n",
    "print(f\"{x} Mins = {int(x/60)} Hours\")"
   ]
  },
  {
   "cell_type": "markdown",
   "id": "ecb51027-f60f-4a1d-9d14-8f3256788d83",
   "metadata": {},
   "source": [
    "# Author:\n",
    "\n",
    "### Bassel Farahat"
   ]
  },
  {
   "cell_type": "code",
   "execution_count": null,
   "id": "da1b3d9a-f73a-4d02-8dba-f3142f834e28",
   "metadata": {},
   "outputs": [],
   "source": []
  }
 ],
 "metadata": {
  "kernelspec": {
   "display_name": "Python",
   "language": "python",
   "name": "conda-env-python-py"
  },
  "language_info": {
   "codemirror_mode": {
    "name": "ipython",
    "version": 3
   },
   "file_extension": ".py",
   "mimetype": "text/x-python",
   "name": "python",
   "nbconvert_exporter": "python",
   "pygments_lexer": "ipython3",
   "version": "3.7.12"
  }
 },
 "nbformat": 4,
 "nbformat_minor": 5
}
